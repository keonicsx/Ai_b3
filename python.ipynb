{
 "cells": [
  {
   "cell_type": "code",
   "execution_count": null,
   "id": "cab61729",
   "metadata": {},
   "outputs": [],
   "source": [
    "a=1+2"
   ]
  },
  {
   "cell_type": "markdown",
   "id": "a70afd37",
   "metadata": {},
   "source": [
    "# First comment\n",
    "* My explaination\n",
    "+ Description\n",
    "\n",
    "## Second comment\n",
    "My explaination\n",
    "### Third comment\n",
    "My explaination\n",
    "#### Fourth comment\n",
    "My explaination"
   ]
  },
  {
   "cell_type": "markdown",
   "id": "58093264",
   "metadata": {},
   "source": [
    "# Python programming"
   ]
  },
  {
   "cell_type": "code",
   "execution_count": 46,
   "id": "c2662464",
   "metadata": {},
   "outputs": [],
   "source": [
    "# addition program\n",
    "a=10   #a=10\n",
    "b=20.0 # it stores 20 in b"
   ]
  },
  {
   "cell_type": "code",
   "execution_count": 47,
   "id": "c08c1163",
   "metadata": {},
   "outputs": [],
   "source": [
    "Sum=a+b"
   ]
  },
  {
   "cell_type": "code",
   "execution_count": 48,
   "id": "63126b37",
   "metadata": {},
   "outputs": [
    {
     "data": {
      "text/plain": [
       "30.0"
      ]
     },
     "execution_count": 48,
     "metadata": {},
     "output_type": "execute_result"
    }
   ],
   "source": [
    "Sum"
   ]
  },
  {
   "cell_type": "code",
   "execution_count": 60,
   "id": "114822ec",
   "metadata": {},
   "outputs": [],
   "source": [
    "s1=\"Hello \""
   ]
  },
  {
   "cell_type": "code",
   "execution_count": 61,
   "id": "d27595d4",
   "metadata": {},
   "outputs": [
    {
     "data": {
      "text/plain": [
       "'Hello'"
      ]
     },
     "execution_count": 61,
     "metadata": {},
     "output_type": "execute_result"
    }
   ],
   "source": [
    "s1"
   ]
  },
  {
   "cell_type": "code",
   "execution_count": 62,
   "id": "81b0e1a7",
   "metadata": {},
   "outputs": [
    {
     "name": "stdout",
     "output_type": "stream",
     "text": [
      "Hello\n"
     ]
    }
   ],
   "source": [
    "print(s1)"
   ]
  },
  {
   "cell_type": "code",
   "execution_count": 63,
   "id": "c9dc5c5b",
   "metadata": {},
   "outputs": [],
   "source": [
    "s2='world'"
   ]
  },
  {
   "cell_type": "code",
   "execution_count": 64,
   "id": "62eb5ba6",
   "metadata": {},
   "outputs": [
    {
     "name": "stdout",
     "output_type": "stream",
     "text": [
      "Hello world\n"
     ]
    }
   ],
   "source": [
    "print(s1,s2)"
   ]
  },
  {
   "cell_type": "markdown",
   "id": "a93969b7",
   "metadata": {},
   "source": [
    "#### String Literals"
   ]
  },
  {
   "cell_type": "code",
   "execution_count": 66,
   "id": "f6958fa1",
   "metadata": {},
   "outputs": [
    {
     "data": {
      "text/plain": [
       "'H'"
      ]
     },
     "execution_count": 66,
     "metadata": {},
     "output_type": "execute_result"
    }
   ],
   "source": [
    "s=\"Hello Python\"\n",
    "s[0]"
   ]
  },
  {
   "cell_type": "code",
   "execution_count": 67,
   "id": "51392d20",
   "metadata": {},
   "outputs": [
    {
     "data": {
      "text/plain": [
       "12"
      ]
     },
     "execution_count": 67,
     "metadata": {},
     "output_type": "execute_result"
    }
   ],
   "source": [
    "len(s)"
   ]
  },
  {
   "cell_type": "code",
   "execution_count": 68,
   "id": "7bfbac0f",
   "metadata": {},
   "outputs": [
    {
     "data": {
      "text/plain": [
       "'n'"
      ]
     },
     "execution_count": 68,
     "metadata": {},
     "output_type": "execute_result"
    }
   ],
   "source": [
    "s[ len(s)-1  ]"
   ]
  },
  {
   "cell_type": "code",
   "execution_count": 69,
   "id": "1045592d",
   "metadata": {},
   "outputs": [
    {
     "data": {
      "text/plain": [
       "'n'"
      ]
     },
     "execution_count": 69,
     "metadata": {},
     "output_type": "execute_result"
    }
   ],
   "source": [
    "s[-1]"
   ]
  },
  {
   "cell_type": "code",
   "execution_count": 72,
   "id": "7990a61a",
   "metadata": {},
   "outputs": [
    {
     "data": {
      "text/plain": [
       "'Key Board is working fine'"
      ]
     },
     "execution_count": 72,
     "metadata": {},
     "output_type": "execute_result"
    }
   ],
   "source": [
    "s='Key \\\n",
    "Board \\\n",
    "is \\\n",
    "working \\\n",
    "fine'\n",
    "s"
   ]
  },
  {
   "cell_type": "code",
   "execution_count": 74,
   "id": "2f186863",
   "metadata": {},
   "outputs": [
    {
     "data": {
      "text/plain": [
       "'Key Board is working fine'"
      ]
     },
     "execution_count": 74,
     "metadata": {},
     "output_type": "execute_result"
    }
   ],
   "source": [
    "s='Key \\\n",
    "Board \\\n",
    "is \\\n",
    "working \\\n",
    "fine'\n",
    "s"
   ]
  },
  {
   "cell_type": "code",
   "execution_count": 75,
   "id": "b3083b5c",
   "metadata": {},
   "outputs": [
    {
     "data": {
      "text/plain": [
       "\"python's program \""
      ]
     },
     "execution_count": 75,
     "metadata": {},
     "output_type": "execute_result"
    }
   ],
   "source": [
    "s='python\\'s program '\n",
    "s"
   ]
  },
  {
   "cell_type": "code",
   "execution_count": 80,
   "id": "7055d8e6",
   "metadata": {},
   "outputs": [
    {
     "data": {
      "text/plain": [
       "\"python's program\""
      ]
     },
     "execution_count": 80,
     "metadata": {},
     "output_type": "execute_result"
    }
   ],
   "source": [
    "s='python\\'s program'\n",
    "s"
   ]
  },
  {
   "cell_type": "code",
   "execution_count": 81,
   "id": "5f7bee28",
   "metadata": {},
   "outputs": [
    {
     "data": {
      "text/plain": [
       "16"
      ]
     },
     "execution_count": 81,
     "metadata": {},
     "output_type": "execute_result"
    }
   ],
   "source": [
    "len(s)"
   ]
  },
  {
   "cell_type": "code",
   "execution_count": 82,
   "id": "3829ccbd",
   "metadata": {},
   "outputs": [
    {
     "data": {
      "text/plain": [
       "' Hello\\nto\\nthe\\nworld\\nof\\nPython'"
      ]
     },
     "execution_count": 82,
     "metadata": {},
     "output_type": "execute_result"
    }
   ],
   "source": [
    "s=''' Hello\n",
    "to\n",
    "the\n",
    "world\n",
    "of\n",
    "Python'''\n",
    "s"
   ]
  },
  {
   "cell_type": "code",
   "execution_count": null,
   "id": "f80e2da8",
   "metadata": {},
   "outputs": [],
   "source": []
  }
 ],
 "metadata": {
  "kernelspec": {
   "display_name": "Python 3 (ipykernel)",
   "language": "python",
   "name": "python3"
  },
  "language_info": {
   "codemirror_mode": {
    "name": "ipython",
    "version": 3
   },
   "file_extension": ".py",
   "mimetype": "text/x-python",
   "name": "python",
   "nbconvert_exporter": "python",
   "pygments_lexer": "ipython3",
   "version": "3.11.3"
  }
 },
 "nbformat": 4,
 "nbformat_minor": 5
}
